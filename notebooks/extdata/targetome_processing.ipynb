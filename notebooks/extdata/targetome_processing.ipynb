{
 "cells": [
  {
   "cell_type": "code",
   "execution_count": 1,
   "metadata": {},
   "outputs": [],
   "source": [
    "import pandas as pd \n",
    "import numpy as np\n",
    "import requests\n",
    "from matplotlib import pyplot as plt"
   ]
  },
  {
   "cell_type": "markdown",
   "metadata": {},
   "source": [
    "# Targetome Processing \n",
    "\n",
    "We need to: \n",
    "1. Map the targetome drug names to broad identifiers. We will do this with INCHIKEYS and the clue repurposing dataset. "
   ]
  },
  {
   "cell_type": "code",
   "execution_count": 2,
   "metadata": {},
   "outputs": [],
   "source": [
    "## CONFIG \n",
    "THRESHOLD_uM = 10"
   ]
  },
  {
   "cell_type": "code",
   "execution_count": 3,
   "metadata": {},
   "outputs": [
    {
     "data": {
      "text/html": [
       "<div>\n",
       "<style scoped>\n",
       "    .dataframe tbody tr th:only-of-type {\n",
       "        vertical-align: middle;\n",
       "    }\n",
       "\n",
       "    .dataframe tbody tr th {\n",
       "        vertical-align: top;\n",
       "    }\n",
       "\n",
       "    .dataframe thead th {\n",
       "        text-align: right;\n",
       "    }\n",
       "</style>\n",
       "<table border=\"1\" class=\"dataframe\">\n",
       "  <thead>\n",
       "    <tr style=\"text-align: right;\">\n",
       "      <th></th>\n",
       "      <th>Drug</th>\n",
       "      <th>Target_UniProt</th>\n",
       "      <th>Assay_Value</th>\n",
       "    </tr>\n",
       "  </thead>\n",
       "  <tbody>\n",
       "    <tr>\n",
       "      <th>0</th>\n",
       "      <td>Abiraterone Acetate</td>\n",
       "      <td>P05093</td>\n",
       "      <td>175.883333</td>\n",
       "    </tr>\n",
       "    <tr>\n",
       "      <th>1</th>\n",
       "      <td>Abiraterone Acetate</td>\n",
       "      <td>P08684</td>\n",
       "      <td>2702.666667</td>\n",
       "    </tr>\n",
       "    <tr>\n",
       "      <th>2</th>\n",
       "      <td>Abiraterone Acetate</td>\n",
       "      <td>P15538</td>\n",
       "      <td>1609.000000</td>\n",
       "    </tr>\n",
       "    <tr>\n",
       "      <th>3</th>\n",
       "      <td>Abiraterone Acetate</td>\n",
       "      <td>P19099</td>\n",
       "      <td>1750.333333</td>\n",
       "    </tr>\n",
       "    <tr>\n",
       "      <th>4</th>\n",
       "      <td>Afatinib Dimaleate</td>\n",
       "      <td>O14578</td>\n",
       "      <td>2900.000000</td>\n",
       "    </tr>\n",
       "  </tbody>\n",
       "</table>\n",
       "</div>"
      ],
      "text/plain": [
       "                  Drug Target_UniProt  Assay_Value\n",
       "0  Abiraterone Acetate         P05093   175.883333\n",
       "1  Abiraterone Acetate         P08684  2702.666667\n",
       "2  Abiraterone Acetate         P15538  1609.000000\n",
       "3  Abiraterone Acetate         P19099  1750.333333\n",
       "4   Afatinib Dimaleate         O14578  2900.000000"
      ]
     },
     "execution_count": 3,
     "metadata": {},
     "output_type": "execute_result"
    }
   ],
   "source": [
    "targ = pd.read_csv('../../../data/targetome.txt', sep='\\t')\n",
    "\n",
    "targ = targ[lambda x: x.Assay_Relation == '=']\n",
    "targ = targ[lambda x: x.Target_Type == 'Protein']\n",
    "targ = targ[lambda x: x.Target_Species == 'Homo sapiens']\n",
    "targ = targ[lambda x: x.EvidenceLevel_Assigned == 'III']\n",
    "\n",
    "targ = targ.groupby(['Drug', 'Target_UniProt'])[['Assay_Value']].mean().reset_index()\n",
    "targ = targ[lambda x: x.Assay_Value <= THRESHOLD_uM*1e3] # assume assay value is in nM \n",
    "\n",
    "targ.head()"
   ]
  },
  {
   "cell_type": "code",
   "execution_count": 4,
   "metadata": {},
   "outputs": [
    {
     "data": {
      "text/html": [
       "<div>\n",
       "<style scoped>\n",
       "    .dataframe tbody tr th:only-of-type {\n",
       "        vertical-align: middle;\n",
       "    }\n",
       "\n",
       "    .dataframe tbody tr th {\n",
       "        vertical-align: top;\n",
       "    }\n",
       "\n",
       "    .dataframe thead th {\n",
       "        text-align: right;\n",
       "    }\n",
       "</style>\n",
       "<table border=\"1\" class=\"dataframe\">\n",
       "  <thead>\n",
       "    <tr style=\"text-align: right;\">\n",
       "      <th></th>\n",
       "      <th>pert_id</th>\n",
       "      <th>cmap_name</th>\n",
       "      <th>target</th>\n",
       "      <th>moa</th>\n",
       "      <th>canonical_smiles</th>\n",
       "      <th>inchi_key</th>\n",
       "      <th>compound_aliases</th>\n",
       "    </tr>\n",
       "  </thead>\n",
       "  <tbody>\n",
       "    <tr>\n",
       "      <th>0</th>\n",
       "      <td>BRD-A08715367</td>\n",
       "      <td>L-theanine</td>\n",
       "      <td>NaN</td>\n",
       "      <td>NaN</td>\n",
       "      <td>CCNC(=O)CCC(N)C(O)=O</td>\n",
       "      <td>DATAGRPVKZEWHA-UHFFFAOYSA-N</td>\n",
       "      <td>l-theanine</td>\n",
       "    </tr>\n",
       "    <tr>\n",
       "      <th>1</th>\n",
       "      <td>BRD-A12237696</td>\n",
       "      <td>L-citrulline</td>\n",
       "      <td>NaN</td>\n",
       "      <td>NaN</td>\n",
       "      <td>NC(CCCNC(N)=O)C(O)=O</td>\n",
       "      <td>RHGKLRLOHDJJDR-UHFFFAOYSA-N</td>\n",
       "      <td>l-citrulline</td>\n",
       "    </tr>\n",
       "    <tr>\n",
       "      <th>2</th>\n",
       "      <td>BRD-A18795974</td>\n",
       "      <td>BRD-A18795974</td>\n",
       "      <td>NaN</td>\n",
       "      <td>NaN</td>\n",
       "      <td>CCCN(CCC)C1CCc2ccc(O)cc2C1</td>\n",
       "      <td>BLYMJBIZMIGWFK-UHFFFAOYSA-N</td>\n",
       "      <td>7-hydroxy-DPAT</td>\n",
       "    </tr>\n",
       "    <tr>\n",
       "      <th>3</th>\n",
       "      <td>BRD-A27924917</td>\n",
       "      <td>BRD-A27924917</td>\n",
       "      <td>NaN</td>\n",
       "      <td>NaN</td>\n",
       "      <td>NCC(O)(CS(O)(=O)=O)c1ccc(Cl)cc1</td>\n",
       "      <td>WBSMZVIMANOCNX-UHFFFAOYSA-N</td>\n",
       "      <td>2-hydroxysaclofen</td>\n",
       "    </tr>\n",
       "    <tr>\n",
       "      <th>4</th>\n",
       "      <td>BRD-A35931254</td>\n",
       "      <td>BRD-A35931254</td>\n",
       "      <td>NaN</td>\n",
       "      <td>NaN</td>\n",
       "      <td>CN1CCc2cccc-3c2C1Cc1ccc(O)c(O)c-31</td>\n",
       "      <td>VMWNQDUVQKEIOC-UHFFFAOYSA-N</td>\n",
       "      <td>r(-)-apomorphine</td>\n",
       "    </tr>\n",
       "  </tbody>\n",
       "</table>\n",
       "</div>"
      ],
      "text/plain": [
       "         pert_id      cmap_name target  moa  \\\n",
       "0  BRD-A08715367     L-theanine    NaN  NaN   \n",
       "1  BRD-A12237696   L-citrulline    NaN  NaN   \n",
       "2  BRD-A18795974  BRD-A18795974    NaN  NaN   \n",
       "3  BRD-A27924917  BRD-A27924917    NaN  NaN   \n",
       "4  BRD-A35931254  BRD-A35931254    NaN  NaN   \n",
       "\n",
       "                     canonical_smiles                    inchi_key  \\\n",
       "0                CCNC(=O)CCC(N)C(O)=O  DATAGRPVKZEWHA-UHFFFAOYSA-N   \n",
       "1                NC(CCCNC(N)=O)C(O)=O  RHGKLRLOHDJJDR-UHFFFAOYSA-N   \n",
       "2          CCCN(CCC)C1CCc2ccc(O)cc2C1  BLYMJBIZMIGWFK-UHFFFAOYSA-N   \n",
       "3     NCC(O)(CS(O)(=O)=O)c1ccc(Cl)cc1  WBSMZVIMANOCNX-UHFFFAOYSA-N   \n",
       "4  CN1CCc2cccc-3c2C1Cc1ccc(O)c(O)c-31  VMWNQDUVQKEIOC-UHFFFAOYSA-N   \n",
       "\n",
       "    compound_aliases  \n",
       "0         l-theanine  \n",
       "1       l-citrulline  \n",
       "2     7-hydroxy-DPAT  \n",
       "3  2-hydroxysaclofen  \n",
       "4   r(-)-apomorphine  "
      ]
     },
     "execution_count": 4,
     "metadata": {},
     "output_type": "execute_result"
    }
   ],
   "source": [
    "clue = pd.read_csv('../../../data/compoundinfo_beta.txt', sep='\\t')\n",
    "clue.head()"
   ]
  },
  {
   "cell_type": "code",
   "execution_count": 6,
   "metadata": {},
   "outputs": [
    {
     "name": "stdout",
     "output_type": "stream",
     "text": [
      "# of drugs: 91\n",
      "# of targets: 471\n"
     ]
    }
   ],
   "source": [
    "print('# of drugs:', len(targ['Drug'].unique()))\n",
    "print('# of targets:', len(targ['Target_UniProt'].unique()))"
   ]
  },
  {
   "cell_type": "code",
   "execution_count": 7,
   "metadata": {},
   "outputs": [],
   "source": [
    "\n",
    "def get_smiles_inchikey(drug_name):\n",
    "    \"\"\"Retrieve the Canonical and Isomeric SMILES and InChIKey for a given drug name from PubChem.\"\"\"\n",
    "    properties = 'CanonicalSMILES,IsomericSMILES,InChIKey'\n",
    "    url = f\"https://pubchem.ncbi.nlm.nih.gov/rest/pug/compound/name/{drug_name}/property/{properties}/JSON\"\n",
    "    response = requests.get(url)\n",
    "    if response.status_code == 200:\n",
    "        data = response.json()\n",
    "        try:\n",
    "            props = data['PropertyTable']['Properties'][0]\n",
    "            canonical_smiles = props.get('CanonicalSMILES', None)\n",
    "            isomeric_smiles = props.get('IsomericSMILES', None)\n",
    "            inchikey = props.get('InChIKey', None)\n",
    "            return canonical_smiles, isomeric_smiles, inchikey\n",
    "        except (KeyError, IndexError):\n",
    "            return None, None, None\n",
    "    else:\n",
    "        return None, None, None"
   ]
  },
  {
   "cell_type": "code",
   "execution_count": 8,
   "metadata": {},
   "outputs": [
    {
     "name": "stdout",
     "output_type": "stream",
     "text": [
      "progress: 90/91\r"
     ]
    },
    {
     "data": {
      "text/html": [
       "<div>\n",
       "<style scoped>\n",
       "    .dataframe tbody tr th:only-of-type {\n",
       "        vertical-align: middle;\n",
       "    }\n",
       "\n",
       "    .dataframe tbody tr th {\n",
       "        vertical-align: top;\n",
       "    }\n",
       "\n",
       "    .dataframe thead th {\n",
       "        text-align: right;\n",
       "    }\n",
       "</style>\n",
       "<table border=\"1\" class=\"dataframe\">\n",
       "  <thead>\n",
       "    <tr style=\"text-align: right;\">\n",
       "      <th></th>\n",
       "      <th>Drug</th>\n",
       "      <th>inchi_key</th>\n",
       "    </tr>\n",
       "  </thead>\n",
       "  <tbody>\n",
       "    <tr>\n",
       "      <th>0</th>\n",
       "      <td>Abiraterone Acetate</td>\n",
       "      <td>UVIQSJCZCSLXRZ-UBUQANBQSA-N</td>\n",
       "    </tr>\n",
       "    <tr>\n",
       "      <th>1</th>\n",
       "      <td>Afatinib Dimaleate</td>\n",
       "      <td>USNRYVNRPYXCSP-JUGPPOIOSA-N</td>\n",
       "    </tr>\n",
       "    <tr>\n",
       "      <th>2</th>\n",
       "      <td>Alectinib</td>\n",
       "      <td>KDGFLJKFZUIJMX-UHFFFAOYSA-N</td>\n",
       "    </tr>\n",
       "    <tr>\n",
       "      <th>3</th>\n",
       "      <td>Anastrozole</td>\n",
       "      <td>YBBLVLTVTVSKRW-UHFFFAOYSA-N</td>\n",
       "    </tr>\n",
       "    <tr>\n",
       "      <th>4</th>\n",
       "      <td>Aprepitant</td>\n",
       "      <td>ATALOFNDEOCMKK-OITMNORJSA-N</td>\n",
       "    </tr>\n",
       "  </tbody>\n",
       "</table>\n",
       "</div>"
      ],
      "text/plain": [
       "                  Drug                    inchi_key\n",
       "0  Abiraterone Acetate  UVIQSJCZCSLXRZ-UBUQANBQSA-N\n",
       "1   Afatinib Dimaleate  USNRYVNRPYXCSP-JUGPPOIOSA-N\n",
       "2            Alectinib  KDGFLJKFZUIJMX-UHFFFAOYSA-N\n",
       "3          Anastrozole  YBBLVLTVTVSKRW-UHFFFAOYSA-N\n",
       "4           Aprepitant  ATALOFNDEOCMKK-OITMNORJSA-N"
      ]
     },
     "execution_count": 8,
     "metadata": {},
     "output_type": "execute_result"
    }
   ],
   "source": [
    "\n",
    "name2inchi = {'Drug':[], 'inchi_key':[]}\n",
    "drugs = targ['Drug'].unique()\n",
    "for i, drug in enumerate(drugs):\n",
    "    print(f'progress: {i}/{len(drugs)}', end='\\r')\n",
    "    _, _, inchi_key = get_smiles_inchikey(drug)\n",
    "    name2inchi['Drug'].append(drug)\n",
    "    name2inchi['inchi_key'].append(inchi_key)\n",
    "name2inchi = pd.DataFrame(name2inchi)\n",
    "\n",
    "name2inchi = name2inchi.dropna()\n",
    "\n",
    "name2inchi.head()"
   ]
  },
  {
   "cell_type": "code",
   "execution_count": 9,
   "metadata": {},
   "outputs": [],
   "source": [
    "inchi2brd = clue[['pert_id', 'inchi_key']].drop_duplicates()"
   ]
  },
  {
   "cell_type": "code",
   "execution_count": 10,
   "metadata": {},
   "outputs": [
    {
     "data": {
      "text/html": [
       "<div>\n",
       "<style scoped>\n",
       "    .dataframe tbody tr th:only-of-type {\n",
       "        vertical-align: middle;\n",
       "    }\n",
       "\n",
       "    .dataframe tbody tr th {\n",
       "        vertical-align: top;\n",
       "    }\n",
       "\n",
       "    .dataframe thead th {\n",
       "        text-align: right;\n",
       "    }\n",
       "</style>\n",
       "<table border=\"1\" class=\"dataframe\">\n",
       "  <thead>\n",
       "    <tr style=\"text-align: right;\">\n",
       "      <th></th>\n",
       "      <th>Drug</th>\n",
       "      <th>Target_UniProt</th>\n",
       "      <th>Assay_Value</th>\n",
       "      <th>inchi_key</th>\n",
       "      <th>pert_id</th>\n",
       "    </tr>\n",
       "  </thead>\n",
       "  <tbody>\n",
       "    <tr>\n",
       "      <th>0</th>\n",
       "      <td>Abiraterone Acetate</td>\n",
       "      <td>P05093</td>\n",
       "      <td>175.883333</td>\n",
       "      <td>UVIQSJCZCSLXRZ-UBUQANBQSA-N</td>\n",
       "      <td>BRD-K24048528</td>\n",
       "    </tr>\n",
       "    <tr>\n",
       "      <th>1</th>\n",
       "      <td>Abiraterone Acetate</td>\n",
       "      <td>P08684</td>\n",
       "      <td>2702.666667</td>\n",
       "      <td>UVIQSJCZCSLXRZ-UBUQANBQSA-N</td>\n",
       "      <td>BRD-K24048528</td>\n",
       "    </tr>\n",
       "    <tr>\n",
       "      <th>2</th>\n",
       "      <td>Abiraterone Acetate</td>\n",
       "      <td>P15538</td>\n",
       "      <td>1609.000000</td>\n",
       "      <td>UVIQSJCZCSLXRZ-UBUQANBQSA-N</td>\n",
       "      <td>BRD-K24048528</td>\n",
       "    </tr>\n",
       "    <tr>\n",
       "      <th>3</th>\n",
       "      <td>Abiraterone Acetate</td>\n",
       "      <td>P19099</td>\n",
       "      <td>1750.333333</td>\n",
       "      <td>UVIQSJCZCSLXRZ-UBUQANBQSA-N</td>\n",
       "      <td>BRD-K24048528</td>\n",
       "    </tr>\n",
       "    <tr>\n",
       "      <th>42</th>\n",
       "      <td>Alectinib</td>\n",
       "      <td>Q9UM73</td>\n",
       "      <td>1.900000</td>\n",
       "      <td>KDGFLJKFZUIJMX-UHFFFAOYSA-N</td>\n",
       "      <td>BRD-K11267252</td>\n",
       "    </tr>\n",
       "  </tbody>\n",
       "</table>\n",
       "</div>"
      ],
      "text/plain": [
       "                   Drug Target_UniProt  Assay_Value  \\\n",
       "0   Abiraterone Acetate         P05093   175.883333   \n",
       "1   Abiraterone Acetate         P08684  2702.666667   \n",
       "2   Abiraterone Acetate         P15538  1609.000000   \n",
       "3   Abiraterone Acetate         P19099  1750.333333   \n",
       "42            Alectinib         Q9UM73     1.900000   \n",
       "\n",
       "                      inchi_key        pert_id  \n",
       "0   UVIQSJCZCSLXRZ-UBUQANBQSA-N  BRD-K24048528  \n",
       "1   UVIQSJCZCSLXRZ-UBUQANBQSA-N  BRD-K24048528  \n",
       "2   UVIQSJCZCSLXRZ-UBUQANBQSA-N  BRD-K24048528  \n",
       "3   UVIQSJCZCSLXRZ-UBUQANBQSA-N  BRD-K24048528  \n",
       "42  KDGFLJKFZUIJMX-UHFFFAOYSA-N  BRD-K11267252  "
      ]
     },
     "execution_count": 10,
     "metadata": {},
     "output_type": "execute_result"
    }
   ],
   "source": [
    "targ2 = pd.merge(targ, name2inchi, on='Drug', how='left').merge(inchi2brd, on='inchi_key', how='left').dropna()\n",
    "targ2.head()"
   ]
  },
  {
   "cell_type": "code",
   "execution_count": 11,
   "metadata": {},
   "outputs": [
    {
     "name": "stdout",
     "output_type": "stream",
     "text": [
      "# of drugs: 52\n",
      "# of targets: 368\n",
      "# of interactions: 839\n"
     ]
    }
   ],
   "source": [
    "print('# of drugs:', len(targ2['pert_id'].unique()))\n",
    "print('# of targets:', len(targ2['Target_UniProt'].unique()))\n",
    "print('# of interactions:', len(targ2))"
   ]
  },
  {
   "cell_type": "code",
   "execution_count": 12,
   "metadata": {},
   "outputs": [],
   "source": [
    "targ2.to_csv('../../extdata/targetome_with_broad_ids.csv', index=False)"
   ]
  },
  {
   "cell_type": "code",
   "execution_count": 13,
   "metadata": {},
   "outputs": [
    {
     "data": {
      "text/html": [
       "<div>\n",
       "<style scoped>\n",
       "    .dataframe tbody tr th:only-of-type {\n",
       "        vertical-align: middle;\n",
       "    }\n",
       "\n",
       "    .dataframe tbody tr th {\n",
       "        vertical-align: top;\n",
       "    }\n",
       "\n",
       "    .dataframe thead th {\n",
       "        text-align: right;\n",
       "    }\n",
       "</style>\n",
       "<table border=\"1\" class=\"dataframe\">\n",
       "  <thead>\n",
       "    <tr style=\"text-align: right;\">\n",
       "      <th></th>\n",
       "      <th>Drug</th>\n",
       "      <th>Target_UniProt</th>\n",
       "      <th>Assay_Value</th>\n",
       "      <th>inchi_key</th>\n",
       "      <th>pert_id</th>\n",
       "    </tr>\n",
       "  </thead>\n",
       "  <tbody>\n",
       "    <tr>\n",
       "      <th>0</th>\n",
       "      <td>Abiraterone Acetate</td>\n",
       "      <td>P05093</td>\n",
       "      <td>175.883333</td>\n",
       "      <td>UVIQSJCZCSLXRZ-UBUQANBQSA-N</td>\n",
       "      <td>BRD-K24048528</td>\n",
       "    </tr>\n",
       "    <tr>\n",
       "      <th>1</th>\n",
       "      <td>Abiraterone Acetate</td>\n",
       "      <td>P08684</td>\n",
       "      <td>2702.666667</td>\n",
       "      <td>UVIQSJCZCSLXRZ-UBUQANBQSA-N</td>\n",
       "      <td>BRD-K24048528</td>\n",
       "    </tr>\n",
       "    <tr>\n",
       "      <th>2</th>\n",
       "      <td>Abiraterone Acetate</td>\n",
       "      <td>P15538</td>\n",
       "      <td>1609.000000</td>\n",
       "      <td>UVIQSJCZCSLXRZ-UBUQANBQSA-N</td>\n",
       "      <td>BRD-K24048528</td>\n",
       "    </tr>\n",
       "    <tr>\n",
       "      <th>3</th>\n",
       "      <td>Abiraterone Acetate</td>\n",
       "      <td>P19099</td>\n",
       "      <td>1750.333333</td>\n",
       "      <td>UVIQSJCZCSLXRZ-UBUQANBQSA-N</td>\n",
       "      <td>BRD-K24048528</td>\n",
       "    </tr>\n",
       "    <tr>\n",
       "      <th>42</th>\n",
       "      <td>Alectinib</td>\n",
       "      <td>Q9UM73</td>\n",
       "      <td>1.900000</td>\n",
       "      <td>KDGFLJKFZUIJMX-UHFFFAOYSA-N</td>\n",
       "      <td>BRD-K11267252</td>\n",
       "    </tr>\n",
       "  </tbody>\n",
       "</table>\n",
       "</div>"
      ],
      "text/plain": [
       "                   Drug Target_UniProt  Assay_Value  \\\n",
       "0   Abiraterone Acetate         P05093   175.883333   \n",
       "1   Abiraterone Acetate         P08684  2702.666667   \n",
       "2   Abiraterone Acetate         P15538  1609.000000   \n",
       "3   Abiraterone Acetate         P19099  1750.333333   \n",
       "42            Alectinib         Q9UM73     1.900000   \n",
       "\n",
       "                      inchi_key        pert_id  \n",
       "0   UVIQSJCZCSLXRZ-UBUQANBQSA-N  BRD-K24048528  \n",
       "1   UVIQSJCZCSLXRZ-UBUQANBQSA-N  BRD-K24048528  \n",
       "2   UVIQSJCZCSLXRZ-UBUQANBQSA-N  BRD-K24048528  \n",
       "3   UVIQSJCZCSLXRZ-UBUQANBQSA-N  BRD-K24048528  \n",
       "42  KDGFLJKFZUIJMX-UHFFFAOYSA-N  BRD-K11267252  "
      ]
     },
     "execution_count": 13,
     "metadata": {},
     "output_type": "execute_result"
    }
   ],
   "source": [
    "targ2.head()"
   ]
  },
  {
   "cell_type": "code",
   "execution_count": 14,
   "metadata": {},
   "outputs": [
    {
     "data": {
      "image/png": "[encoded data removed]",
      "text/plain": [
       "<Figure size 640x480 with 1 Axes>"
      ]
     },
     "metadata": {},
     "output_type": "display_data"
    }
   ],
   "source": [
    "plt.figure()\n",
    "plt.hist(np.log10(targ2['Assay_Value'] + 1), bins=25)\n",
    "plt.xlabel('log10(Assay Value)')\n",
    "plt.axvline(np.log10(10*1e3), color='r', linestyle='--', label='10 uM')\n",
    "plt.legend()\n",
    "plt.show()"
   ]
  },
  {
   "cell_type": "code",
   "execution_count": null,
   "metadata": {},
   "outputs": [],
   "source": []
  }
 ],
 "metadata": {
  "kernelspec": {
   "display_name": "gsnn-lib",
   "language": "python",
   "name": "python3"
  },
  "language_info": {
   "codemirror_mode": {
    "name": "ipython",
    "version": 3
   },
   "file_extension": ".py",
   "mimetype": "text/x-python",
   "name": "python",
   "nbconvert_exporter": "python",
   "pygments_lexer": "ipython3",
   "version": "3.12.8"
  }
 },
 "nbformat": 4,
 "nbformat_minor": 2
}
