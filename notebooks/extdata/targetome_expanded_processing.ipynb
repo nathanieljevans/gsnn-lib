{
 "cells": [
  {
   "cell_type": "code",
   "execution_count": 35,
   "metadata": {},
   "outputs": [],
   "source": [
    "import pandas as pd \n",
    "from matplotlib import pyplot as plt\n",
    "import numpy as np"
   ]
  },
  {
   "cell_type": "markdown",
   "metadata": {},
   "source": [
    "# Expanded Targetome \n",
    "\n",
    "This is a currently unpublished expanded targetome dataset that we are experimenting with, there are plans to release this data publicly in the future. "
   ]
  },
  {
   "cell_type": "code",
   "execution_count": 7,
   "metadata": {},
   "outputs": [],
   "source": [
    "# CONFIG \n",
    "THRESHOLD_uM = 10"
   ]
  },
  {
   "cell_type": "code",
   "execution_count": 11,
   "metadata": {},
   "outputs": [
    {
     "name": "stderr",
     "output_type": "stream",
     "text": [
      "/tmp/ipykernel_28857/170753740.py:3: DtypeWarning: Columns (10,11,13,14,16) have mixed types. Specify dtype option on import or set low_memory=False.\n",
      "  tinfo = pd.read_csv('../../../data/targetome_extended_drugs-01-23-25.csv')\n"
     ]
    },
    {
     "data": {
      "text/html": [
       "<div>\n",
       "<style scoped>\n",
       "    .dataframe tbody tr th:only-of-type {\n",
       "        vertical-align: middle;\n",
       "    }\n",
       "\n",
       "    .dataframe tbody tr th {\n",
       "        vertical-align: top;\n",
       "    }\n",
       "\n",
       "    .dataframe thead th {\n",
       "        text-align: right;\n",
       "    }\n",
       "</style>\n",
       "<table border=\"1\" class=\"dataframe\">\n",
       "  <thead>\n",
       "    <tr style=\"text-align: right;\">\n",
       "      <th></th>\n",
       "      <th>pubchem_cid</th>\n",
       "      <th>inchi_key</th>\n",
       "      <th>uniprot_id</th>\n",
       "      <th>pubmed_id</th>\n",
       "      <th>database</th>\n",
       "      <th>assay_type</th>\n",
       "      <th>assay_relation</th>\n",
       "      <th>assay_value</th>\n",
       "    </tr>\n",
       "  </thead>\n",
       "  <tbody>\n",
       "    <tr>\n",
       "      <th>0</th>\n",
       "      <td>6</td>\n",
       "      <td>VYZAHLCBVHPDDF-UHFFFAOYSA-N</td>\n",
       "      <td>P78417</td>\n",
       "      <td>29652143.0</td>\n",
       "      <td>pubchem_bioassay</td>\n",
       "      <td>IC50</td>\n",
       "      <td>=</td>\n",
       "      <td>900000.0</td>\n",
       "    </tr>\n",
       "    <tr>\n",
       "      <th>1</th>\n",
       "      <td>7</td>\n",
       "      <td>MUIPLRMGAXZWSQ-UHFFFAOYSA-N</td>\n",
       "      <td>P0DMS8</td>\n",
       "      <td>19282184.0</td>\n",
       "      <td>pubchem_bioassay</td>\n",
       "      <td>Ki</td>\n",
       "      <td>&gt;</td>\n",
       "      <td>100000.0</td>\n",
       "    </tr>\n",
       "    <tr>\n",
       "      <th>2</th>\n",
       "      <td>7</td>\n",
       "      <td>MUIPLRMGAXZWSQ-UHFFFAOYSA-N</td>\n",
       "      <td>P29274</td>\n",
       "      <td>19282184.0</td>\n",
       "      <td>pubchem_bioassay</td>\n",
       "      <td>Ki</td>\n",
       "      <td>=</td>\n",
       "      <td>2200.0</td>\n",
       "    </tr>\n",
       "    <tr>\n",
       "      <th>3</th>\n",
       "      <td>7</td>\n",
       "      <td>MUIPLRMGAXZWSQ-UHFFFAOYSA-N</td>\n",
       "      <td>P29275</td>\n",
       "      <td>19282184.0</td>\n",
       "      <td>pubchem_bioassay</td>\n",
       "      <td>Ki</td>\n",
       "      <td>&gt;</td>\n",
       "      <td>30000.0</td>\n",
       "    </tr>\n",
       "    <tr>\n",
       "      <th>4</th>\n",
       "      <td>7</td>\n",
       "      <td>MUIPLRMGAXZWSQ-UHFFFAOYSA-N</td>\n",
       "      <td>P30542</td>\n",
       "      <td>19282184.0</td>\n",
       "      <td>pubchem_bioassay</td>\n",
       "      <td>Ki</td>\n",
       "      <td>=</td>\n",
       "      <td>7400.0</td>\n",
       "    </tr>\n",
       "  </tbody>\n",
       "</table>\n",
       "</div>"
      ],
      "text/plain": [
       "   pubchem_cid                    inchi_key uniprot_id   pubmed_id  \\\n",
       "0            6  VYZAHLCBVHPDDF-UHFFFAOYSA-N     P78417  29652143.0   \n",
       "1            7  MUIPLRMGAXZWSQ-UHFFFAOYSA-N     P0DMS8  19282184.0   \n",
       "2            7  MUIPLRMGAXZWSQ-UHFFFAOYSA-N     P29274  19282184.0   \n",
       "3            7  MUIPLRMGAXZWSQ-UHFFFAOYSA-N     P29275  19282184.0   \n",
       "4            7  MUIPLRMGAXZWSQ-UHFFFAOYSA-N     P30542  19282184.0   \n",
       "\n",
       "           database assay_type assay_relation  assay_value  \n",
       "0  pubchem_bioassay       IC50              =     900000.0  \n",
       "1  pubchem_bioassay         Ki              >     100000.0  \n",
       "2  pubchem_bioassay         Ki              =       2200.0  \n",
       "3  pubchem_bioassay         Ki              >      30000.0  \n",
       "4  pubchem_bioassay         Ki              =       7400.0  "
      ]
     },
     "execution_count": 11,
     "metadata": {},
     "output_type": "execute_result"
    }
   ],
   "source": [
    "\n",
    "targ2 = pd.read_csv('../../../data/targetome_extended-01-23-25.csv')\n",
    "druginfo = pd.read_csv('../../../data/compoundinfo_beta.txt', sep='\\t')\n",
    "tinfo = pd.read_csv('../../../data/targetome_extended_drugs-01-23-25.csv')\n",
    "\n",
    "targ2.head() "
   ]
  },
  {
   "cell_type": "code",
   "execution_count": 31,
   "metadata": {},
   "outputs": [
    {
     "data": {
      "text/html": [
       "<div>\n",
       "<style scoped>\n",
       "    .dataframe tbody tr th:only-of-type {\n",
       "        vertical-align: middle;\n",
       "    }\n",
       "\n",
       "    .dataframe tbody tr th {\n",
       "        vertical-align: top;\n",
       "    }\n",
       "\n",
       "    .dataframe thead th {\n",
       "        text-align: right;\n",
       "    }\n",
       "</style>\n",
       "<table border=\"1\" class=\"dataframe\">\n",
       "  <thead>\n",
       "    <tr style=\"text-align: right;\">\n",
       "      <th></th>\n",
       "      <th>pert_id</th>\n",
       "      <th>uniprot_id</th>\n",
       "      <th>inchi_key</th>\n",
       "      <th>assay_value</th>\n",
       "      <th>binding</th>\n",
       "    </tr>\n",
       "  </thead>\n",
       "  <tbody>\n",
       "    <tr>\n",
       "      <th>9</th>\n",
       "      <td>BRD-A00546892</td>\n",
       "      <td>P08912</td>\n",
       "      <td>YSXKPIUOCJLQIE-UHFFFAOYSA-N</td>\n",
       "      <td>6.300000</td>\n",
       "      <td>True</td>\n",
       "    </tr>\n",
       "    <tr>\n",
       "      <th>10</th>\n",
       "      <td>BRD-A00546892</td>\n",
       "      <td>P11229</td>\n",
       "      <td>YSXKPIUOCJLQIE-UHFFFAOYSA-N</td>\n",
       "      <td>1.420000</td>\n",
       "      <td>True</td>\n",
       "    </tr>\n",
       "    <tr>\n",
       "      <th>11</th>\n",
       "      <td>BRD-A00546892</td>\n",
       "      <td>P20309</td>\n",
       "      <td>YSXKPIUOCJLQIE-UHFFFAOYSA-N</td>\n",
       "      <td>4.925000</td>\n",
       "      <td>True</td>\n",
       "    </tr>\n",
       "    <tr>\n",
       "      <th>13</th>\n",
       "      <td>BRD-A00993607</td>\n",
       "      <td>P07550</td>\n",
       "      <td>PAZJSJFMUHDSTF-UHFFFAOYSA-N</td>\n",
       "      <td>9.237105</td>\n",
       "      <td>True</td>\n",
       "    </tr>\n",
       "    <tr>\n",
       "      <th>14</th>\n",
       "      <td>BRD-A00993607</td>\n",
       "      <td>P08588</td>\n",
       "      <td>PAZJSJFMUHDSTF-UHFFFAOYSA-N</td>\n",
       "      <td>7.003600</td>\n",
       "      <td>True</td>\n",
       "    </tr>\n",
       "  </tbody>\n",
       "</table>\n",
       "</div>"
      ],
      "text/plain": [
       "          pert_id uniprot_id                    inchi_key  assay_value  \\\n",
       "9   BRD-A00546892     P08912  YSXKPIUOCJLQIE-UHFFFAOYSA-N     6.300000   \n",
       "10  BRD-A00546892     P11229  YSXKPIUOCJLQIE-UHFFFAOYSA-N     1.420000   \n",
       "11  BRD-A00546892     P20309  YSXKPIUOCJLQIE-UHFFFAOYSA-N     4.925000   \n",
       "13  BRD-A00993607     P07550  PAZJSJFMUHDSTF-UHFFFAOYSA-N     9.237105   \n",
       "14  BRD-A00993607     P08588  PAZJSJFMUHDSTF-UHFFFAOYSA-N     7.003600   \n",
       "\n",
       "    binding  \n",
       "9      True  \n",
       "10     True  \n",
       "11     True  \n",
       "13     True  \n",
       "14     True  "
      ]
     },
     "execution_count": 31,
     "metadata": {},
     "output_type": "execute_result"
    }
   ],
   "source": [
    "targ2dep = targ2.merge(druginfo[['pert_id', 'inchi_key']].drop_duplicates(), on='inchi_key', how='inner')\n",
    "targ2dep = targ2dep[lambda x: x.assay_relation == '=']\n",
    "targ2dep = targ2dep.groupby(['pert_id', 'uniprot_id', 'inchi_key'])[['assay_value']].mean().reset_index()\n",
    "targ2dep = targ2dep.assign(binding = lambda x: x.assay_value <= THRESHOLD_uM)\n",
    "targ2dep = targ2dep[lambda x: x.binding]\n",
    "targ2dep.head()"
   ]
  },
  {
   "cell_type": "code",
   "execution_count": 32,
   "metadata": {},
   "outputs": [
    {
     "name": "stdout",
     "output_type": "stream",
     "text": [
      "# of unique drugs: 920\n",
      "# of unique targets: 688\n",
      "# of unique DTIs : 2067\n"
     ]
    }
   ],
   "source": [
    "print('# of unique drugs:', targ2dep.inchi_key.nunique())\n",
    "print('# of unique targets:', targ2dep.uniprot_id.nunique())\n",
    "print('# of unique DTIs :', targ2dep[['inchi_key', 'uniprot_id']].drop_duplicates().shape[0])"
   ]
  },
  {
   "cell_type": "code",
   "execution_count": 33,
   "metadata": {},
   "outputs": [
    {
     "name": "stdout",
     "output_type": "stream",
     "text": [
      "# of inhibitors: 223\n",
      "# of agonists: 304\n"
     ]
    },
    {
     "data": {
      "text/html": [
       "<div>\n",
       "<style scoped>\n",
       "    .dataframe tbody tr th:only-of-type {\n",
       "        vertical-align: middle;\n",
       "    }\n",
       "\n",
       "    .dataframe tbody tr th {\n",
       "        vertical-align: top;\n",
       "    }\n",
       "\n",
       "    .dataframe thead th {\n",
       "        text-align: right;\n",
       "    }\n",
       "</style>\n",
       "<table border=\"1\" class=\"dataframe\">\n",
       "  <thead>\n",
       "    <tr style=\"text-align: right;\">\n",
       "      <th></th>\n",
       "      <th>pert_id</th>\n",
       "      <th>uniprot_id</th>\n",
       "      <th>inchi_key</th>\n",
       "      <th>assay_value</th>\n",
       "      <th>binding</th>\n",
       "      <th>atc_agonist</th>\n",
       "      <th>atc_inhibitor</th>\n",
       "    </tr>\n",
       "  </thead>\n",
       "  <tbody>\n",
       "    <tr>\n",
       "      <th>0</th>\n",
       "      <td>BRD-A00546892</td>\n",
       "      <td>P08912</td>\n",
       "      <td>YSXKPIUOCJLQIE-UHFFFAOYSA-N</td>\n",
       "      <td>6.300000</td>\n",
       "      <td>True</td>\n",
       "      <td>True</td>\n",
       "      <td>False</td>\n",
       "    </tr>\n",
       "    <tr>\n",
       "      <th>1</th>\n",
       "      <td>BRD-A00546892</td>\n",
       "      <td>P11229</td>\n",
       "      <td>YSXKPIUOCJLQIE-UHFFFAOYSA-N</td>\n",
       "      <td>1.420000</td>\n",
       "      <td>True</td>\n",
       "      <td>True</td>\n",
       "      <td>False</td>\n",
       "    </tr>\n",
       "    <tr>\n",
       "      <th>2</th>\n",
       "      <td>BRD-A00546892</td>\n",
       "      <td>P20309</td>\n",
       "      <td>YSXKPIUOCJLQIE-UHFFFAOYSA-N</td>\n",
       "      <td>4.925000</td>\n",
       "      <td>True</td>\n",
       "      <td>True</td>\n",
       "      <td>False</td>\n",
       "    </tr>\n",
       "    <tr>\n",
       "      <th>3</th>\n",
       "      <td>BRD-A00993607</td>\n",
       "      <td>P07550</td>\n",
       "      <td>PAZJSJFMUHDSTF-UHFFFAOYSA-N</td>\n",
       "      <td>9.237105</td>\n",
       "      <td>True</td>\n",
       "      <td>True</td>\n",
       "      <td>False</td>\n",
       "    </tr>\n",
       "    <tr>\n",
       "      <th>4</th>\n",
       "      <td>BRD-A00993607</td>\n",
       "      <td>P08588</td>\n",
       "      <td>PAZJSJFMUHDSTF-UHFFFAOYSA-N</td>\n",
       "      <td>7.003600</td>\n",
       "      <td>True</td>\n",
       "      <td>True</td>\n",
       "      <td>False</td>\n",
       "    </tr>\n",
       "  </tbody>\n",
       "</table>\n",
       "</div>"
      ],
      "text/plain": [
       "         pert_id uniprot_id                    inchi_key  assay_value  \\\n",
       "0  BRD-A00546892     P08912  YSXKPIUOCJLQIE-UHFFFAOYSA-N     6.300000   \n",
       "1  BRD-A00546892     P11229  YSXKPIUOCJLQIE-UHFFFAOYSA-N     1.420000   \n",
       "2  BRD-A00546892     P20309  YSXKPIUOCJLQIE-UHFFFAOYSA-N     4.925000   \n",
       "3  BRD-A00993607     P07550  PAZJSJFMUHDSTF-UHFFFAOYSA-N     9.237105   \n",
       "4  BRD-A00993607     P08588  PAZJSJFMUHDSTF-UHFFFAOYSA-N     7.003600   \n",
       "\n",
       "   binding atc_agonist atc_inhibitor  \n",
       "0     True        True         False  \n",
       "1     True        True         False  \n",
       "2     True        True         False  \n",
       "3     True        True         False  \n",
       "4     True        True         False  "
      ]
     },
     "execution_count": 33,
     "metadata": {},
     "output_type": "execute_result"
    }
   ],
   "source": [
    "tinfo2 = tinfo[['inchi_key', 'atc']].drop_duplicates() \n",
    "tinfo2 = tinfo2.assign(atc_inhibitor = lambda x: x.atc.str.contains('inhibitor'))\n",
    "tinfo2 = tinfo2.assign(atc_agonist = lambda x: x.atc.str.contains('agonist'))\n",
    "\n",
    "targ2dep = targ2dep.merge(tinfo2[['inchi_key', 'atc_agonist', 'atc_inhibitor']], on='inchi_key', how='left')\n",
    "\n",
    "print(f'# of inhibitors: {targ2dep.atc_inhibitor.sum()}')\n",
    "print(f'# of agonists: {targ2dep.atc_agonist.sum()}')\n",
    "\n",
    "targ2dep.head() "
   ]
  },
  {
   "cell_type": "code",
   "execution_count": 40,
   "metadata": {},
   "outputs": [
    {
     "data": {
      "image/png": "[encoded data removed]",
      "text/plain": [
       "<Figure size 640x480 with 1 Axes>"
      ]
     },
     "metadata": {},
     "output_type": "display_data"
    }
   ],
   "source": [
    "plt.figure() \n",
    "plt.hist(np.log10(targ2dep.assay_value + 1), bins=25)\n",
    "plt.xlabel('log10(assay_value)')\n",
    "plt.show()"
   ]
  },
  {
   "cell_type": "code",
   "execution_count": 41,
   "metadata": {},
   "outputs": [],
   "source": [
    "targ2dep.to_csv('../../extdata/targetome_expanded_beta.csv', index=False)"
   ]
  },
  {
   "cell_type": "code",
   "execution_count": null,
   "metadata": {},
   "outputs": [],
   "source": []
  }
 ],
 "metadata": {
  "kernelspec": {
   "display_name": "gsnn-lib",
   "language": "python",
   "name": "python3"
  },
  "language_info": {
   "codemirror_mode": {
    "name": "ipython",
    "version": 3
   },
   "file_extension": ".py",
   "mimetype": "text/x-python",
   "name": "python",
   "nbconvert_exporter": "python",
   "pygments_lexer": "ipython3",
   "version": "3.12.8"
  }
 },
 "nbformat": 4,
 "nbformat_minor": 2
}
