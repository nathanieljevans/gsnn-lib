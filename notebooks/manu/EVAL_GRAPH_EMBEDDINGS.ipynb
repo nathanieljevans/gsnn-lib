{
 "cells": [
  {
   "cell_type": "code",
   "execution_count": 1,
   "metadata": {},
   "outputs": [
    {
     "name": "stderr",
     "output_type": "stream",
     "text": [
      "/home/teddy/miniconda3/envs/gsnn/lib/python3.12/site-packages/tqdm/auto.py:21: TqdmWarning: IProgress not found. Please update jupyter and ipywidgets. See https://ipywidgets.readthedocs.io/en/stable/user_install.html\n",
      "  from .autonotebook import tqdm as notebook_tqdm\n"
     ]
    }
   ],
   "source": [
    "import networkx as nx \n",
    "from matplotlib import pyplot as plt\n",
    "import numpy as np\n",
    "import networkx as nx\n",
    "import random\n",
    "import torch\n",
    "import copy\n",
    "import torch_geometric as pyg\n",
    "import gc \n",
    "import pandas as pd\n",
    "\n",
    "from gsnn.reinforce.Node2Vec import Node2Vec\n",
    "from gsnn.reinforce.DGI import DGI\n",
    "from gsnn.reinforce import utils \n",
    "\n",
    "%load_ext autoreload\n",
    "%autoreload 2"
   ]
  },
  {
   "cell_type": "code",
   "execution_count": null,
   "metadata": {},
   "outputs": [],
   "source": [
    "data = torch.load('../../gsnn-lib/processed_data/data.pt')\n",
    "\n",
    "data2 = pyg.data.Data() \n",
    "data2.edge_index = data['edge_index_dict']['function','to','function']\n",
    "data2.num_nodes = len(data['node_names_dict']['function'])\n",
    "data2.x = torch.eye(data2.num_nodes) # one hot encode nodes "
   ]
  },
  {
   "cell_type": "code",
   "execution_count": null,
   "metadata": {},
   "outputs": [],
   "source": [
    "def run_search(model, data, model_params, training_params, iters=10):\n",
    "\n",
    "    res = {**{k:[] for k in model_params.keys() if k not in ['data']}, **{k:[] for k in training_params.keys()}}\n",
    "    nps = []\n",
    "    sil = []\n",
    "    device = 'cuda' if torch.cuda.is_available() else 'cpu'\n",
    "    for i in range(iters): \n",
    "\n",
    "        gc.collect() \n",
    "        torch.cuda.empty_cache()\n",
    "        \n",
    "        mp = {k:np.random.choice(model_params[k], size=1).item() for k,v in model_params.items()}\n",
    "        tp = {k:np.random.choice(training_params[k], size=1).item() for k,v in training_params.items()}\n",
    "        \n",
    "        m = model(data=data, **mp)\n",
    "        m.train(**tp, device=device)\n",
    "\n",
    "        _=[res[k].append(v) for k,v in mp.items() if k not in ['data']] \n",
    "        _=[res[k].append(v) for k,v in tp.items()]\n",
    "\n",
    "        nps.append( utils.neighborhood_preservation_score(data2.edge_index, torch.tensor(m.embed()), k=3) )\n",
    "        sil.append( utils.dbscan_silhouette_score(torch.tensor(m.embed()), max_eps=10, min_samples=10)[0] )\n",
    "        print(f'progress: {i}/{iters} || nps: {nps[-1]:.8f} || sil: {sil[-1]:.8f} ||', str(mp))\n",
    "    print('search complete.')\n",
    "\n",
    "    res = pd.DataFrame(res).assign(nps=nps, sil=sil)\n",
    "    return res"
   ]
  },
  {
   "cell_type": "code",
   "execution_count": null,
   "metadata": {},
   "outputs": [
    {
     "name": "stdout",
     "output_type": "stream",
     "text": [
      "progress: 0/100 || nps: 0.02318718 || sil: -0.09704421 || {'embedding_dim': 256, 'layers': 10, 'dropout': 0.0, 'conv': 'gcn'}\n",
      "Epoch 99: loss: 0.0025\r"
     ]
    },
    {
     "name": "stderr",
     "output_type": "stream",
     "text": [
      "/home/teddy/miniconda3/envs/gsnn/lib/python3.12/site-packages/sklearn/cluster/_optics.py:661: UserWarning: All reachability values are inf. Set a larger max_eps or all data will be considered outliers.\n",
      "  warnings.warn(\n"
     ]
    },
    {
     "name": "stdout",
     "output_type": "stream",
     "text": [
      "progress: 1/100 || nps: 0.00136828 || sil: -1.00000000 || {'embedding_dim': 256, 'layers': 5, 'dropout': 0.2, 'conv': 'gin'}\n",
      "progress: 2/100 || nps: 0.00646713 || sil: 0.09665385 || {'embedding_dim': 64, 'layers': 15, 'dropout': 0.1, 'conv': 'gcn'}\n",
      "progress: 3/100 || nps: 0.00061358 || sil: 0.21007581 || {'embedding_dim': 64, 'layers': 15, 'dropout': 0.1, 'conv': 'sage'}\n",
      "progress: 4/100 || nps: 0.00086515 || sil: -0.64172167 || {'embedding_dim': 124, 'layers': 15, 'dropout': 0.2, 'conv': 'gin'}\n",
      "progress: 5/100 || nps: 0.00119034 || sil: -0.34409270 || {'embedding_dim': 64, 'layers': 3, 'dropout': 0.1, 'conv': 'gin'}\n",
      "progress: 6/100 || nps: 0.00371216 || sil: -0.17394486 || {'embedding_dim': 256, 'layers': 10, 'dropout': 0.0, 'conv': 'gat'}\n",
      "progress: 7/100 || nps: 0.00032520 || sil: -1.00000000 || {'embedding_dim': 64, 'layers': 3, 'dropout': 0.1, 'conv': 'sage'}\n",
      "progress: 8/100 || nps: 0.01287904 || sil: -0.01807558 || {'embedding_dim': 256, 'layers': 3, 'dropout': 0.1, 'conv': 'gat'}\n",
      "progress: 9/100 || nps: 0.00785996 || sil: -0.09048346 || {'embedding_dim': 256, 'layers': 3, 'dropout': 0.0, 'conv': 'gat'}\n",
      "progress: 10/100 || nps: 0.00303108 || sil: -0.33998209 || {'embedding_dim': 256, 'layers': 3, 'dropout': 0.0, 'conv': 'gin'}\n",
      "Epoch 49: loss: 0.6774\r"
     ]
    },
    {
     "name": "stderr",
     "output_type": "stream",
     "text": [
      "/home/teddy/miniconda3/envs/gsnn/lib/python3.12/site-packages/sklearn/cluster/_optics.py:661: UserWarning: All reachability values are inf. Set a larger max_eps or all data will be considered outliers.\n",
      "  warnings.warn(\n"
     ]
    },
    {
     "name": "stdout",
     "output_type": "stream",
     "text": [
      "progress: 11/100 || nps: 0.00208617 || sil: -1.00000000 || {'embedding_dim': 256, 'layers': 3, 'dropout': 0.1, 'conv': 'gin'}\n",
      "progress: 12/100 || nps: 0.00361398 || sil: 0.23254471 || {'embedding_dim': 64, 'layers': 15, 'dropout': 0.2, 'conv': 'gcn'}\n",
      "Epoch 49: loss: 0.9827\r"
     ]
    },
    {
     "name": "stderr",
     "output_type": "stream",
     "text": [
      "/home/teddy/miniconda3/envs/gsnn/lib/python3.12/site-packages/sklearn/cluster/_optics.py:661: UserWarning: All reachability values are inf. Set a larger max_eps or all data will be considered outliers.\n",
      "  warnings.warn(\n"
     ]
    },
    {
     "name": "stdout",
     "output_type": "stream",
     "text": [
      "progress: 13/100 || nps: 0.00048473 || sil: -1.00000000 || {'embedding_dim': 256, 'layers': 3, 'dropout': 0.2, 'conv': 'sage'}\n",
      "Epoch 24: loss: 2.9706\r"
     ]
    },
    {
     "name": "stderr",
     "output_type": "stream",
     "text": [
      "/home/teddy/miniconda3/envs/gsnn/lib/python3.12/site-packages/sklearn/cluster/_optics.py:661: UserWarning: All reachability values are inf. Set a larger max_eps or all data will be considered outliers.\n",
      "  warnings.warn(\n"
     ]
    },
    {
     "name": "stdout",
     "output_type": "stream",
     "text": [
      "progress: 14/100 || nps: 0.01699616 || sil: -1.00000000 || {'embedding_dim': 256, 'layers': 3, 'dropout': 0.2, 'conv': 'gcn'}\n",
      "Epoch 49: loss: 2.5256\r"
     ]
    },
    {
     "name": "stderr",
     "output_type": "stream",
     "text": [
      "/home/teddy/miniconda3/envs/gsnn/lib/python3.12/site-packages/sklearn/cluster/_optics.py:661: UserWarning: All reachability values are inf. Set a larger max_eps or all data will be considered outliers.\n",
      "  warnings.warn(\n"
     ]
    },
    {
     "name": "stdout",
     "output_type": "stream",
     "text": [
      "progress: 15/100 || nps: 0.00655917 || sil: -1.00000000 || {'embedding_dim': 256, 'layers': 15, 'dropout': 0.1, 'conv': 'gat'}\n",
      "progress: 16/100 || nps: 0.00951049 || sil: -0.01377801 || {'embedding_dim': 256, 'layers': 3, 'dropout': 0.1, 'conv': 'gcn'}\n",
      "Epoch 24: loss: 2.2840\r"
     ]
    },
    {
     "name": "stderr",
     "output_type": "stream",
     "text": [
      "/home/teddy/miniconda3/envs/gsnn/lib/python3.12/site-packages/sklearn/cluster/_optics.py:661: UserWarning: All reachability values are inf. Set a larger max_eps or all data will be considered outliers.\n",
      "  warnings.warn(\n"
     ]
    },
    {
     "name": "stdout",
     "output_type": "stream",
     "text": [
      "progress: 17/100 || nps: 0.00041110 || sil: -1.00000000 || {'embedding_dim': 124, 'layers': 3, 'dropout': 0.2, 'conv': 'sage'}\n",
      "Epoch 99: loss: 0.6323\r"
     ]
    },
    {
     "name": "stderr",
     "output_type": "stream",
     "text": [
      "/home/teddy/miniconda3/envs/gsnn/lib/python3.12/site-packages/sklearn/cluster/_optics.py:661: UserWarning: All reachability values are inf. Set a larger max_eps or all data will be considered outliers.\n",
      "  warnings.warn(\n"
     ]
    },
    {
     "name": "stdout",
     "output_type": "stream",
     "text": [
      "progress: 18/100 || nps: 0.00066880 || sil: -1.00000000 || {'embedding_dim': 256, 'layers': 5, 'dropout': 0.2, 'conv': 'sage'}\n",
      "progress: 19/100 || nps: 0.00744886 || sil: -0.00503712 || {'embedding_dim': 124, 'layers': 15, 'dropout': 0.2, 'conv': 'gcn'}\n",
      "progress: 20/100 || nps: 0.00196959 || sil: -0.54435343 || {'embedding_dim': 64, 'layers': 10, 'dropout': 0.0, 'conv': 'gin'}\n",
      "progress: 21/100 || nps: 0.00085901 || sil: -0.24086885 || {'embedding_dim': 64, 'layers': 15, 'dropout': 0.2, 'conv': 'gin'}\n",
      "Epoch 24: loss: 2.7084\r"
     ]
    },
    {
     "name": "stderr",
     "output_type": "stream",
     "text": [
      "/home/teddy/miniconda3/envs/gsnn/lib/python3.12/site-packages/sklearn/cluster/_optics.py:661: UserWarning: All reachability values are inf. Set a larger max_eps or all data will be considered outliers.\n",
      "  warnings.warn(\n"
     ]
    },
    {
     "name": "stdout",
     "output_type": "stream",
     "text": [
      "progress: 22/100 || nps: 0.00656530 || sil: -1.00000000 || {'embedding_dim': 256, 'layers': 15, 'dropout': 0.1, 'conv': 'gat'}\n",
      "progress: 23/100 || nps: 0.00631374 || sil: -0.15421547 || {'embedding_dim': 256, 'layers': 3, 'dropout': 0.0, 'conv': 'gin'}\n",
      "Epoch 24: loss: 0.0366\r"
     ]
    },
    {
     "name": "stderr",
     "output_type": "stream",
     "text": [
      "/home/teddy/miniconda3/envs/gsnn/lib/python3.12/site-packages/sklearn/cluster/_optics.py:661: UserWarning: All reachability values are inf. Set a larger max_eps or all data will be considered outliers.\n",
      "  warnings.warn(\n"
     ]
    },
    {
     "name": "stdout",
     "output_type": "stream",
     "text": [
      "progress: 24/100 || nps: 0.00127011 || sil: -1.00000000 || {'embedding_dim': 256, 'layers': 5, 'dropout': 0.2, 'conv': 'gin'}\n",
      "progress: 25/100 || nps: 0.00123330 || sil: -0.70796001 || {'embedding_dim': 256, 'layers': 10, 'dropout': 0.0, 'conv': 'gin'}\n",
      "Epoch 18: loss: 2.7693\r"
     ]
    },
    {
     "ename": "KeyboardInterrupt",
     "evalue": "",
     "output_type": "error",
     "traceback": [
      "\u001b[0;31m---------------------------------------------------------------------------\u001b[0m",
      "\u001b[0;31mKeyboardInterrupt\u001b[0m                         Traceback (most recent call last)",
      "Cell \u001b[0;32mIn[10], line 8\u001b[0m\n\u001b[1;32m      1\u001b[0m model_params \u001b[38;5;241m=\u001b[39m {\u001b[38;5;124m'\u001b[39m\u001b[38;5;124membedding_dim\u001b[39m\u001b[38;5;124m'\u001b[39m:[\u001b[38;5;241m64\u001b[39m, \u001b[38;5;241m124\u001b[39m, \u001b[38;5;241m256\u001b[39m], \n\u001b[1;32m      2\u001b[0m                 \u001b[38;5;124m'\u001b[39m\u001b[38;5;124mlayers\u001b[39m\u001b[38;5;124m'\u001b[39m:[\u001b[38;5;241m3\u001b[39m,\u001b[38;5;241m5\u001b[39m,\u001b[38;5;241m10\u001b[39m,\u001b[38;5;241m15\u001b[39m],\n\u001b[1;32m      3\u001b[0m                 \u001b[38;5;124m'\u001b[39m\u001b[38;5;124mdropout\u001b[39m\u001b[38;5;124m'\u001b[39m:[\u001b[38;5;241m0\u001b[39m, \u001b[38;5;241m0.1\u001b[39m, \u001b[38;5;241m0.2\u001b[39m],\n\u001b[1;32m      4\u001b[0m                 \u001b[38;5;124m'\u001b[39m\u001b[38;5;124mconv\u001b[39m\u001b[38;5;124m'\u001b[39m:[\u001b[38;5;124m'\u001b[39m\u001b[38;5;124mgin\u001b[39m\u001b[38;5;124m'\u001b[39m, \u001b[38;5;124m'\u001b[39m\u001b[38;5;124mgat\u001b[39m\u001b[38;5;124m'\u001b[39m, \u001b[38;5;124m'\u001b[39m\u001b[38;5;124mgcn\u001b[39m\u001b[38;5;124m'\u001b[39m, \u001b[38;5;124m'\u001b[39m\u001b[38;5;124msage\u001b[39m\u001b[38;5;124m'\u001b[39m]}\n\u001b[1;32m      6\u001b[0m training_params \u001b[38;5;241m=\u001b[39m {\u001b[38;5;124m'\u001b[39m\u001b[38;5;124mlr\u001b[39m\u001b[38;5;124m'\u001b[39m: [\u001b[38;5;241m1e-3\u001b[39m, \u001b[38;5;241m1e-4\u001b[39m, \u001b[38;5;241m1e-5\u001b[39m], \u001b[38;5;124m'\u001b[39m\u001b[38;5;124mepochs\u001b[39m\u001b[38;5;124m'\u001b[39m:[\u001b[38;5;241m25\u001b[39m, \u001b[38;5;241m50\u001b[39m, \u001b[38;5;241m100\u001b[39m]} \n\u001b[0;32m----> 8\u001b[0m res \u001b[38;5;241m=\u001b[39m \u001b[43mrun_search\u001b[49m\u001b[43m(\u001b[49m\u001b[43mDGI\u001b[49m\u001b[43m,\u001b[49m\u001b[43m \u001b[49m\u001b[43mdata2\u001b[49m\u001b[43m,\u001b[49m\u001b[43m \u001b[49m\u001b[43mmodel_params\u001b[49m\u001b[43m,\u001b[49m\u001b[43m \u001b[49m\u001b[43mtraining_params\u001b[49m\u001b[43m,\u001b[49m\u001b[43m \u001b[49m\u001b[43miters\u001b[49m\u001b[38;5;241;43m=\u001b[39;49m\u001b[38;5;241;43m100\u001b[39;49m\u001b[43m)\u001b[49m\n",
      "Cell \u001b[0;32mIn[9], line 16\u001b[0m, in \u001b[0;36mrun_search\u001b[0;34m(model, data, model_params, training_params, iters)\u001b[0m\n\u001b[1;32m     13\u001b[0m tp \u001b[38;5;241m=\u001b[39m {k:np\u001b[38;5;241m.\u001b[39mrandom\u001b[38;5;241m.\u001b[39mchoice(training_params[k], size\u001b[38;5;241m=\u001b[39m\u001b[38;5;241m1\u001b[39m)\u001b[38;5;241m.\u001b[39mitem() \u001b[38;5;28;01mfor\u001b[39;00m k,v \u001b[38;5;129;01min\u001b[39;00m training_params\u001b[38;5;241m.\u001b[39mitems()}\n\u001b[1;32m     15\u001b[0m m \u001b[38;5;241m=\u001b[39m model(data\u001b[38;5;241m=\u001b[39mdata, \u001b[38;5;241m*\u001b[39m\u001b[38;5;241m*\u001b[39mmp)\n\u001b[0;32m---> 16\u001b[0m \u001b[43mm\u001b[49m\u001b[38;5;241;43m.\u001b[39;49m\u001b[43mtrain\u001b[49m\u001b[43m(\u001b[49m\u001b[38;5;241;43m*\u001b[39;49m\u001b[38;5;241;43m*\u001b[39;49m\u001b[43mtp\u001b[49m\u001b[43m,\u001b[49m\u001b[43m \u001b[49m\u001b[43mdevice\u001b[49m\u001b[38;5;241;43m=\u001b[39;49m\u001b[43mdevice\u001b[49m\u001b[43m)\u001b[49m\n\u001b[1;32m     18\u001b[0m _\u001b[38;5;241m=\u001b[39m[res[k]\u001b[38;5;241m.\u001b[39mappend(v) \u001b[38;5;28;01mfor\u001b[39;00m k,v \u001b[38;5;129;01min\u001b[39;00m mp\u001b[38;5;241m.\u001b[39mitems() \u001b[38;5;28;01mif\u001b[39;00m k \u001b[38;5;129;01mnot\u001b[39;00m \u001b[38;5;129;01min\u001b[39;00m [\u001b[38;5;124m'\u001b[39m\u001b[38;5;124mdata\u001b[39m\u001b[38;5;124m'\u001b[39m]] \n\u001b[1;32m     19\u001b[0m _\u001b[38;5;241m=\u001b[39m[res[k]\u001b[38;5;241m.\u001b[39mappend(v) \u001b[38;5;28;01mfor\u001b[39;00m k,v \u001b[38;5;129;01min\u001b[39;00m tp\u001b[38;5;241m.\u001b[39mitems()]\n",
      "File \u001b[0;32m~/local/GSNN/gsnn/reinforce/DGI.py:94\u001b[0m, in \u001b[0;36mDGI.train\u001b[0;34m(self, device, lr, epochs, verbose)\u001b[0m\n\u001b[1;32m     92\u001b[0m pos_z, neg_z, summary \u001b[38;5;241m=\u001b[39m model(\u001b[38;5;28mself\u001b[39m\u001b[38;5;241m.\u001b[39mdata\u001b[38;5;241m.\u001b[39mx\u001b[38;5;241m.\u001b[39mto(device), \u001b[38;5;28mself\u001b[39m\u001b[38;5;241m.\u001b[39mdata\u001b[38;5;241m.\u001b[39medge_index\u001b[38;5;241m.\u001b[39mto(device))\n\u001b[1;32m     93\u001b[0m loss \u001b[38;5;241m=\u001b[39m model\u001b[38;5;241m.\u001b[39mloss(pos_z, neg_z, summary)\n\u001b[0;32m---> 94\u001b[0m \u001b[43mloss\u001b[49m\u001b[38;5;241;43m.\u001b[39;49m\u001b[43mbackward\u001b[49m\u001b[43m(\u001b[49m\u001b[43m)\u001b[49m\n\u001b[1;32m     95\u001b[0m optimizer\u001b[38;5;241m.\u001b[39mstep()\n\u001b[1;32m     96\u001b[0m total_loss \u001b[38;5;241m+\u001b[39m\u001b[38;5;241m=\u001b[39m \u001b[38;5;28mfloat\u001b[39m(loss) \u001b[38;5;241m*\u001b[39m pos_z\u001b[38;5;241m.\u001b[39msize(\u001b[38;5;241m0\u001b[39m)\n",
      "File \u001b[0;32m~/miniconda3/envs/gsnn/lib/python3.12/site-packages/torch/_tensor.py:522\u001b[0m, in \u001b[0;36mTensor.backward\u001b[0;34m(self, gradient, retain_graph, create_graph, inputs)\u001b[0m\n\u001b[1;32m    512\u001b[0m \u001b[38;5;28;01mif\u001b[39;00m has_torch_function_unary(\u001b[38;5;28mself\u001b[39m):\n\u001b[1;32m    513\u001b[0m     \u001b[38;5;28;01mreturn\u001b[39;00m handle_torch_function(\n\u001b[1;32m    514\u001b[0m         Tensor\u001b[38;5;241m.\u001b[39mbackward,\n\u001b[1;32m    515\u001b[0m         (\u001b[38;5;28mself\u001b[39m,),\n\u001b[0;32m   (...)\u001b[0m\n\u001b[1;32m    520\u001b[0m         inputs\u001b[38;5;241m=\u001b[39minputs,\n\u001b[1;32m    521\u001b[0m     )\n\u001b[0;32m--> 522\u001b[0m \u001b[43mtorch\u001b[49m\u001b[38;5;241;43m.\u001b[39;49m\u001b[43mautograd\u001b[49m\u001b[38;5;241;43m.\u001b[39;49m\u001b[43mbackward\u001b[49m\u001b[43m(\u001b[49m\n\u001b[1;32m    523\u001b[0m \u001b[43m    \u001b[49m\u001b[38;5;28;43mself\u001b[39;49m\u001b[43m,\u001b[49m\u001b[43m \u001b[49m\u001b[43mgradient\u001b[49m\u001b[43m,\u001b[49m\u001b[43m \u001b[49m\u001b[43mretain_graph\u001b[49m\u001b[43m,\u001b[49m\u001b[43m \u001b[49m\u001b[43mcreate_graph\u001b[49m\u001b[43m,\u001b[49m\u001b[43m \u001b[49m\u001b[43minputs\u001b[49m\u001b[38;5;241;43m=\u001b[39;49m\u001b[43minputs\u001b[49m\n\u001b[1;32m    524\u001b[0m \u001b[43m\u001b[49m\u001b[43m)\u001b[49m\n",
      "File \u001b[0;32m~/miniconda3/envs/gsnn/lib/python3.12/site-packages/torch/autograd/__init__.py:266\u001b[0m, in \u001b[0;36mbackward\u001b[0;34m(tensors, grad_tensors, retain_graph, create_graph, grad_variables, inputs)\u001b[0m\n\u001b[1;32m    261\u001b[0m     retain_graph \u001b[38;5;241m=\u001b[39m create_graph\n\u001b[1;32m    263\u001b[0m \u001b[38;5;66;03m# The reason we repeat the same comment below is that\u001b[39;00m\n\u001b[1;32m    264\u001b[0m \u001b[38;5;66;03m# some Python versions print out the first line of a multi-line function\u001b[39;00m\n\u001b[1;32m    265\u001b[0m \u001b[38;5;66;03m# calls in the traceback and some print out the last line\u001b[39;00m\n\u001b[0;32m--> 266\u001b[0m \u001b[43mVariable\u001b[49m\u001b[38;5;241;43m.\u001b[39;49m\u001b[43m_execution_engine\u001b[49m\u001b[38;5;241;43m.\u001b[39;49m\u001b[43mrun_backward\u001b[49m\u001b[43m(\u001b[49m\u001b[43m  \u001b[49m\u001b[38;5;66;43;03m# Calls into the C++ engine to run the backward pass\u001b[39;49;00m\n\u001b[1;32m    267\u001b[0m \u001b[43m    \u001b[49m\u001b[43mtensors\u001b[49m\u001b[43m,\u001b[49m\n\u001b[1;32m    268\u001b[0m \u001b[43m    \u001b[49m\u001b[43mgrad_tensors_\u001b[49m\u001b[43m,\u001b[49m\n\u001b[1;32m    269\u001b[0m \u001b[43m    \u001b[49m\u001b[43mretain_graph\u001b[49m\u001b[43m,\u001b[49m\n\u001b[1;32m    270\u001b[0m \u001b[43m    \u001b[49m\u001b[43mcreate_graph\u001b[49m\u001b[43m,\u001b[49m\n\u001b[1;32m    271\u001b[0m \u001b[43m    \u001b[49m\u001b[43minputs\u001b[49m\u001b[43m,\u001b[49m\n\u001b[1;32m    272\u001b[0m \u001b[43m    \u001b[49m\u001b[43mallow_unreachable\u001b[49m\u001b[38;5;241;43m=\u001b[39;49m\u001b[38;5;28;43;01mTrue\u001b[39;49;00m\u001b[43m,\u001b[49m\n\u001b[1;32m    273\u001b[0m \u001b[43m    \u001b[49m\u001b[43maccumulate_grad\u001b[49m\u001b[38;5;241;43m=\u001b[39;49m\u001b[38;5;28;43;01mTrue\u001b[39;49;00m\u001b[43m,\u001b[49m\n\u001b[1;32m    274\u001b[0m \u001b[43m\u001b[49m\u001b[43m)\u001b[49m\n",
      "\u001b[0;31mKeyboardInterrupt\u001b[0m: "
     ]
    }
   ],
   "source": [
    "model_params = {'embedding_dim':[64, 124, 256], \n",
    "                'layers':[3,5,10,15],\n",
    "                'dropout':[0, 0.1, 0.2],\n",
    "                'conv':['gin', 'gat', 'gcn', 'sage']}\n",
    "\n",
    "training_params = {'lr': [1e-3, 1e-4, 1e-5], 'epochs':[25, 50, 100]} \n",
    "\n",
    "res = run_search(DGI, data2, model_params, training_params, iters=100)"
   ]
  },
  {
   "cell_type": "code",
   "execution_count": 7,
   "metadata": {},
   "outputs": [
    {
     "ename": "NameError",
     "evalue": "name 'res' is not defined",
     "output_type": "error",
     "traceback": [
      "\u001b[0;31m---------------------------------------------------------------------------\u001b[0m",
      "\u001b[0;31mNameError\u001b[0m                                 Traceback (most recent call last)",
      "Cell \u001b[0;32mIn[7], line 1\u001b[0m\n\u001b[0;32m----> 1\u001b[0m \u001b[43mres\u001b[49m\u001b[38;5;241m.\u001b[39msort_values(\u001b[38;5;124m'\u001b[39m\u001b[38;5;124mscore\u001b[39m\u001b[38;5;124m'\u001b[39m, ascending\u001b[38;5;241m=\u001b[39m\u001b[38;5;28;01mFalse\u001b[39;00m)\n",
      "\u001b[0;31mNameError\u001b[0m: name 'res' is not defined"
     ]
    }
   ],
   "source": [
    "res.sort_values('score', ascending=False)"
   ]
  },
  {
   "cell_type": "code",
   "execution_count": null,
   "metadata": {},
   "outputs": [],
   "source": []
  }
 ],
 "metadata": {
  "kernelspec": {
   "display_name": "gsnn",
   "language": "python",
   "name": "python3"
  },
  "language_info": {
   "codemirror_mode": {
    "name": "ipython",
    "version": 3
   },
   "file_extension": ".py",
   "mimetype": "text/x-python",
   "name": "python",
   "nbconvert_exporter": "python",
   "pygments_lexer": "ipython3",
   "version": "3.12.5"
  }
 },
 "nbformat": 4,
 "nbformat_minor": 2
}
