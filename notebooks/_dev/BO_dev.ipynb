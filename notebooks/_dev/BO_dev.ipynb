{
 "cells": [
  {
   "cell_type": "code",
   "execution_count": 1,
   "metadata": {},
   "outputs": [],
   "source": [
    "import torch "
   ]
  },
  {
   "cell_type": "code",
   "execution_count": 2,
   "metadata": {},
   "outputs": [
    {
     "data": {
      "text/plain": [
       "{'bayesopt': <gsnn.optim.BayesOpt.BayesOpt at 0x7f996fcbb8e0>,\n",
       " 'best_action': tensor([False,  True,  True,  ...,  True,  True,  True]),\n",
       " 'best_reward': 2.162423468167997,\n",
       " 'best_rewards_per_iter': [2.162423468167997],\n",
       " 'args': Namespace(data='../data/all', fold='../data/all/', out='../data/all/', siginfo='../../data/', channels=5, layers=10, dropout=0.0, share_layers=False, add_function_self_edges=False, norm='layer', checkpoint=False, lr=0.01, max_epochs=50, patience=10, min_delta=0.01, batch=50, workers=5, surr_channels=6, surr_layers=10, surr_dropout=0.0, surr_share_layers=True, surr_add_function_self_edges=False, surr_norm='layer', surr_bias=False, surr_lr=0.01, surr_epochs=500, surr_patience=25, surr_batch=3, surr_wd=0, rl_batch=20, rl_samples=50, rl_iters=250, stochastic_channels=4, hnet_width=8, samples=10, bayesopt_batch_size=5, record_dir='../ExpRec_tmp/', metric='spearman', reward_agg='auc', warmup=0, iters=100, acquisition='PI', q=0.75, neighborhood=1000, add_false_edges=5000, save_every=1),\n",
       " 'true_edge_mask': tensor([ True,  True,  True,  ..., False, False, False]),\n",
       " 'data': HeteroData(\n",
       "   edge_index_dict={\n",
       "     (input, to, function)=[2, 7507],\n",
       "     (function, to, function)=[2, 89054],\n",
       "     (function, to, output)=[2, 1],\n",
       "   },\n",
       "   node_names_dict={\n",
       "     input=[4375],\n",
       "     function=[8358],\n",
       "     output=[1],\n",
       "   },\n",
       "   cellspace=[9],\n",
       "   x_dict={\n",
       "     cell_dict={\n",
       "       SKBR3=[4375],\n",
       "       MDAMB468=[4375],\n",
       "       HS578T=[4375],\n",
       "       T47D=[4375],\n",
       "       BT474=[4375],\n",
       "       ZR751=[4375],\n",
       "       BT20=[4375],\n",
       "       MCF7=[4375],\n",
       "       MDAMB231=[4375],\n",
       "     },\n",
       "     drug_dict={ BRD-K60230970=functools.partial(<function get_x_drug_conc at 0x7f995dcba8c0>, idx=0, N=4375, eps=1e-06) },\n",
       "   }\n",
       " )}"
      ]
     },
     "execution_count": 2,
     "metadata": {},
     "output_type": "execute_result"
    }
   ],
   "source": [
    "res_dict = torch.load('../data/all/bayesopt_results_dict.pt')\n",
    "res_dict"
   ]
  },
  {
   "cell_type": "code",
   "execution_count": 8,
   "metadata": {},
   "outputs": [],
   "source": [
    "import numpy as np"
   ]
  },
  {
   "cell_type": "code",
   "execution_count": 13,
   "metadata": {},
   "outputs": [
    {
     "data": {
      "text/plain": [
       "0.357"
      ]
     },
     "execution_count": 13,
     "metadata": {},
     "output_type": "execute_result"
    }
   ],
   "source": [
    "acc = (res_dict['best_action'] == res_dict['true_edge_mask']).type(torch.float32).mean().item()\n",
    "\n",
    "racc = []\n",
    "for i in range(1000): \n",
    "    racc.append((res_dict['best_action'] == res_dict['true_edge_mask'][torch.randperm(res_dict['true_edge_mask'].size(0))]).type(torch.float32).mean().item())\n",
    "\n",
    "(acc >= np.array(racc)).mean()"
   ]
  },
  {
   "cell_type": "code",
   "execution_count": 4,
   "metadata": {},
   "outputs": [
    {
     "data": {
      "text/plain": [
       "dict_keys(['bayesopt', 'best_action', 'best_reward', 'args', 'true_edge_mask', 'data'])"
      ]
     },
     "execution_count": 4,
     "metadata": {},
     "output_type": "execute_result"
    }
   ],
   "source": [
    "res_dict.keys()"
   ]
  },
  {
   "cell_type": "code",
   "execution_count": 5,
   "metadata": {},
   "outputs": [
    {
     "data": {
      "text/plain": [
       "8.023927205853838"
      ]
     },
     "execution_count": 5,
     "metadata": {},
     "output_type": "execute_result"
    },
    {
     "ename": "",
     "evalue": "",
     "output_type": "error",
     "traceback": [
      "\u001b[1;31mThe Kernel crashed while executing code in the current cell or a previous cell. \n",
      "\u001b[1;31mPlease review the code in the cell(s) to identify a possible cause of the failure. \n",
      "\u001b[1;31mClick <a href='https://aka.ms/vscodeJupyterKernelCrash'>here</a> for more info. \n",
      "\u001b[1;31mView Jupyter <a href='command:jupyter.viewOutput'>log</a> for further details."
     ]
    }
   ],
   "source": [
    "res_dict['best_reward']"
   ]
  },
  {
   "cell_type": "code",
   "execution_count": null,
   "metadata": {},
   "outputs": [],
   "source": []
  }
 ],
 "metadata": {
  "kernelspec": {
   "display_name": "gsnn",
   "language": "python",
   "name": "python3"
  },
  "language_info": {
   "codemirror_mode": {
    "name": "ipython",
    "version": 3
   },
   "file_extension": ".py",
   "mimetype": "text/x-python",
   "name": "python",
   "nbconvert_exporter": "python",
   "pygments_lexer": "ipython3",
   "version": "3.10.15"
  }
 },
 "nbformat": 4,
 "nbformat_minor": 2
}
